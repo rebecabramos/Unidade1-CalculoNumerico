{
  "nbformat": 4,
  "nbformat_minor": 0,
  "metadata": {
    "colab": {
      "name": "Q1-cn.ipynb",
      "provenance": []
    },
    "kernelspec": {
      "name": "python3",
      "display_name": "Python 3"
    },
    "language_info": {
      "name": "python"
    }
  },
  "cells": [
    {
      "cell_type": "code",
      "metadata": {
        "id": "KT1lfnRNaaGj"
      },
      "source": [
        "%matplotlib inline"
      ],
      "execution_count": null,
      "outputs": []
    },
    {
      "cell_type": "code",
      "metadata": {
        "colab": {
          "base_uri": "https://localhost:8080/",
          "height": 265
        },
        "id": "5O8Pi3EiatmC",
        "outputId": "dbc398c7-2ec9-452e-82ee-806b37cd36a3"
      },
      "source": [
        "from numpy import linspace\n",
        "from numpy import sqrt, exp, cos, sin\n",
        "from matplotlib.pyplot import plot,legend\n",
        "\n",
        "import inspect, re\n",
        "\n",
        "fx = lambda x:cos(x)-(x/453+x**2)\n",
        "\n",
        "x = linspace(0,2,100)\n",
        "plot(x,fx(x),label='$f(x) = cos(x)-(x/453+x^2)$');\n",
        "plot(x,cos(x),label='$y_1(x) = cos(x)$');\n",
        "plot(x,x/453+x**2,label='$y_2(x) = x/453+x^2$');\n",
        "plot(x,fx(x)*0,'--');\n",
        "legend();"
      ],
      "execution_count": null,
      "outputs": [
        {
          "output_type": "display_data",
          "data": {
            "image/png": "[encoded data removed]",
            "text/plain": [
              "<Figure size 432x288 with 1 Axes>"
            ]
          },
          "metadata": {
            "tags": [],
            "needs_background": "light"
          }
        }
      ]
    },
    {
      "cell_type": "markdown",
      "metadata": {
        "id": "clxlUdO8emfg"
      },
      "source": [
        "Ao analisar o gráfico percebe-se que existe uma raiz entre os intervalos de 0.8 e 0.9. Para constatar irei plotar esses pontos, onde é percepitivel uma troca de sinais logo existe raiz entre esse intervalo."
      ]
    },
    {
      "cell_type": "code",
      "metadata": {
        "colab": {
          "base_uri": "https://localhost:8080/"
        },
        "id": "Bt44j72Va1y8",
        "outputId": "5e96d6ce-f3b4-4af8-af6b-9b8442d0295a"
      },
      "source": [
        "fx(0.8)"
      ],
      "execution_count": null,
      "outputs": [
        {
          "output_type": "execute_result",
          "data": {
            "text/plain": [
              "0.054940704932154194"
            ]
          },
          "metadata": {
            "tags": []
          },
          "execution_count": 29
        }
      ]
    },
    {
      "cell_type": "code",
      "metadata": {
        "colab": {
          "base_uri": "https://localhost:8080/"
        },
        "id": "rtcYprvBa3_I",
        "outputId": "91fff244-49c4-4bad-c6d5-cceb90995ef7"
      },
      "source": [
        "fx(0.9)"
      ],
      "execution_count": null,
      "outputs": [
        {
          "output_type": "execute_result",
          "data": {
            "text/plain": [
              "-0.19037678669622304"
            ]
          },
          "metadata": {
            "tags": []
          },
          "execution_count": 30
        }
      ]
    },
    {
      "cell_type": "markdown",
      "metadata": {
        "id": "kbwTDe-6fda8"
      },
      "source": [
        "Sendo assim temos como parametros os seguintes dados, lembrando que a, b, x0, e x1 foram passados diretamente na chamada dos métodos aplicados abaixo."
      ]
    },
    {
      "cell_type": "code",
      "metadata": {
        "id": "TPrKhpQ_xBvx"
      },
      "source": [
        "#Parametros\n",
        "f = 'cos(x)-(x/453+x**2)'  # funcao\n",
        "df = '-sin(x)-2*x-(1/453)' # derivada da funcao\n",
        "tol = 10**-6               # tolerancia\n",
        "nmax = 25                  # numero maximo de iteracoes\n",
        "var = 'x'\n",
        "plotar = True\n"
      ],
      "execution_count": null,
      "outputs": []
    },
    {
      "cell_type": "markdown",
      "metadata": {
        "id": "k1sTeizTbAhM"
      },
      "source": [
        "##A) Método da Bisecção\n",
        "É um método de busca de raízes que bissecta repetidamente um intervalo e então seleciona um subintervalo contendo a raiz para processamento adicional. Trata-se de um método simples e robusto, é usado frequentemente para obter uma primeira aproximação de uma solução, a qual é então utilizada como ponto inicial para métodos que convergem mais rapidamente."
      ]
    },
    {
      "cell_type": "code",
      "metadata": {
        "id": "AcToQk5FbEPo"
      },
      "source": [
        "def bissecao(f,a,b,tol,N,var,plotar):\n",
        "        \n",
        "    # TODO identificar a variável usada na função \n",
        "    #      Aqui, tentei assumir que apenas uma era usada (e.g. 'x'),\n",
        "    #      mas foi complicado generalizar quando há objeto numpy\n",
        "    #var = re.search('[a-zA-Z]+',f)\n",
        "    #var = var.group()\n",
        "\n",
        "    # cria função anônima\n",
        "    f = eval('lambda ' + var + ' :' + f)\n",
        "\n",
        "    # Se função não for de uma variável, lança erro.\n",
        "    # Mais aplicável se o caso geral fosse implementado.        \n",
        "    if len(inspect.getfullargspec(f).args) - 1 > 0:    \n",
        "        raise ValueError('O código é válido apenas para uma variável.')\n",
        "\n",
        "    # calcula valor da função nos extremos\n",
        "    fa = f(a) \n",
        "    fb = f(b)\n",
        "    \n",
        "    # verifica sinal da função para o intervalo passado     \n",
        "    if fa*fb >= 0:\n",
        "        raise ValueError('A função deve ter sinais opostos em a e b!')\n",
        "    \n",
        "    # flag usada para prevenir a obtenção da raiz \n",
        "    # antes de o intervalo ter sido \n",
        "    # suficientemente reduzido\n",
        "    done = 0;\n",
        "\n",
        "    # loop principal\n",
        "\n",
        "    # bisecta o intervalo\n",
        "    xm = (a+b)/2\n",
        "\n",
        "    i = 1 # contador \n",
        "\n",
        "    while abs(a-b) > tol and ( not done or N != 0 ):\n",
        "    # avalia a função no ponto médio\n",
        "        fxm = f(xm)\n",
        "        print(\"(i = {0:d}) f(xm)={1:f} | f(a)={2:f} | f(b)={3:f}\".format(i,fxm,fa,fb))\n",
        "   \n",
        "        if fa*fxm < 0:       # Raiz esta à esquerda de xm\n",
        "            b = xm\n",
        "            fb = fxm\n",
        "            xm = (a+b)/2\n",
        "        elif fxm*fb < 0:     # Raiz esta à direita de xm\n",
        "            a = xm\n",
        "            fa = fxm\n",
        "            xm = (a+b)/2\n",
        "        else:               # Achamos a raiz\n",
        "            done = 1\n",
        "    \n",
        "        N -= 1              # Atualiza passo\n",
        "        i += 1              # Atualiza contador\n",
        "            \n",
        "    print(\"Solução encontrada: {0}\".format(xm))\n",
        "\n",
        "    # plotagem\n",
        "    if plotar:        \n",
        "        delta = 1*x\n",
        "        dom = linspace(x-delta,x+delta,30)\n",
        "        plot(dom,f(dom),x,f(x),'ro')\n",
        "\n",
        "    return xm"
      ],
      "execution_count": null,
      "outputs": []
    },
    {
      "cell_type": "code",
      "metadata": {
        "colab": {
          "base_uri": "https://localhost:8080/",
          "height": 605
        },
        "id": "n4_9tPJHlGFI",
        "outputId": "7268e713-30fe-4be0-d1ae-c2a4cb9dcf09"
      },
      "source": [
        "print('f(x) = ' + f + '\\n')\n",
        "\n",
        "# resolve bisseção\n",
        "mb = bissecao(f, 0.8, 0.9, tol, nmax, var,plotar)"
      ],
      "execution_count": null,
      "outputs": [
        {
          "output_type": "stream",
          "text": [
            "f(x) = cos(x)-(x/453+x**2)\n",
            "\n",
            "(i = 1) f(xm)=-0.064393 | f(a)=0.054941 | f(b)=-0.190377\n",
            "(i = 2) f(xm)=-0.003889 | f(a)=0.054941 | f(b)=-0.064393\n",
            "(i = 3) f(xm)=0.025736 | f(a)=0.054941 | f(b)=-0.003889\n",
            "(i = 4) f(xm)=0.010976 | f(a)=0.025736 | f(b)=-0.003889\n",
            "(i = 5) f(xm)=0.003556 | f(a)=0.010976 | f(b)=-0.003889\n",
            "(i = 6) f(xm)=-0.000163 | f(a)=0.003556 | f(b)=-0.003889\n",
            "(i = 7) f(xm)=0.001697 | f(a)=0.003556 | f(b)=-0.000163\n",
            "(i = 8) f(xm)=0.000767 | f(a)=0.001697 | f(b)=-0.000163\n",
            "(i = 9) f(xm)=0.000302 | f(a)=0.000767 | f(b)=-0.000163\n",
            "(i = 10) f(xm)=0.000069 | f(a)=0.000302 | f(b)=-0.000163\n",
            "(i = 11) f(xm)=-0.000047 | f(a)=0.000069 | f(b)=-0.000163\n",
            "(i = 12) f(xm)=0.000011 | f(a)=0.000069 | f(b)=-0.000047\n",
            "(i = 13) f(xm)=-0.000018 | f(a)=0.000011 | f(b)=-0.000047\n",
            "(i = 14) f(xm)=-0.000003 | f(a)=0.000011 | f(b)=-0.000018\n",
            "(i = 15) f(xm)=0.000004 | f(a)=0.000011 | f(b)=-0.000003\n",
            "(i = 16) f(xm)=0.000000 | f(a)=0.000004 | f(b)=-0.000003\n",
            "(i = 17) f(xm)=-0.000001 | f(a)=0.000000 | f(b)=-0.000003\n",
            "Solução encontrada: 0.8233692169189454\n"
          ],
          "name": "stdout"
        },
        {
          "output_type": "display_data",
          "data": {
            "image/png": "[encoded data removed]",
            "text/plain": [
              "<Figure size 432x288 with 1 Axes>"
            ]
          },
          "metadata": {
            "tags": [],
            "needs_background": "light"
          }
        }
      ]
    },
    {
      "cell_type": "markdown",
      "metadata": {
        "id": "pVnmmqS6nhsx"
      },
      "source": [
        "##B) Método da posição \n",
        "De forma geral, o método consiste na utilização de pares [a,b] de aproximações que englobam a raiz nesse intervalo."
      ]
    },
    {
      "cell_type": "code",
      "metadata": {
        "id": "uvakC8danfWQ"
      },
      "source": [
        "def posicaofalsa(f,a,b,tol,N,var,plotar):\n",
        "    \n",
        "    # cria função anônima\n",
        "    f = eval('lambda ' + var + ' :' + f)\n",
        "\n",
        "    # Se função não for de uma variável, lança erro.\n",
        "    # Mais aplicável se o caso geral fosse implementado.        \n",
        "    if len(inspect.getfullargspec(f).args) - 1 > 0:    \n",
        "        raise ValueError('O código é válido apenas para uma variável.')\n",
        "\n",
        "    # calcula valor da função nos extremos\n",
        "    fa = f(a) \n",
        "    fb = f(b)\n",
        "    \n",
        "    # verifica sinal da função para o intervalo passado     \n",
        "    if fa*fb >= 0:\n",
        "        raise ValueError('A função deve ter sinais opostos em a e b!')\n",
        "    \n",
        "    # flag usada para prevenir a obtenção da raiz \n",
        "    # antes de o intervalo ter sido \n",
        "    # suficientemente reduzido\n",
        "    done = 0;\n",
        "\n",
        "    # loop principal\n",
        "\n",
        "    # calcula posicao\n",
        "    xp = (a*f(b) - b*f(a))/(f(b) - f(a))\n",
        "\n",
        "    i = 1 # contador \n",
        "\n",
        "    while abs(a-b) > tol and ( not done or N != 0 ):\n",
        "        fxp = f(xp)\n",
        "        print(\"(i = {0:d}) f(xm)={1:f} | f(a)={2:f} | f(b)={3:f}\".format(i,fxp,fa,fb))\n",
        "   \n",
        "        if fa*fxp < 0:       # Raiz esta à esquerda de xm\n",
        "            b = xp\n",
        "            fb = fxp\n",
        "            xp = (a*f(b) - b*f(a))/(f(b) - f(a))\n",
        "        elif fxp*fb < 0:     # Raiz esta à direita de xm\n",
        "            a = xp\n",
        "            fa = fxp\n",
        "            xp = (a*f(b) - b*f(a))/(f(b) - f(a))\n",
        "        else:               # Achamos a raiz\n",
        "            done = 1\n",
        "    \n",
        "        N -= 1              # Atualiza passo\n",
        "        i += 1              # Atualiza contador\n",
        "            \n",
        "    print(\"Solução encontrada: {0}\".format(xp))\n",
        "\n",
        "    # plotagem\n",
        "    if plotar:        \n",
        "        delta = 1*x\n",
        "        dom = linspace(x-delta,x+delta,30)\n",
        "        plot(dom,f(dom),x,f(x),'ro')\n",
        "\n",
        "    return xp"
      ],
      "execution_count": null,
      "outputs": []
    },
    {
      "cell_type": "code",
      "metadata": {
        "colab": {
          "base_uri": "https://localhost:8080/",
          "height": 520
        },
        "id": "2GZemLt83no2",
        "outputId": "3132e077-0b24-4a52-9c5c-7b6b5106f8c6"
      },
      "source": [
        "print('f(x) = ' + f + '\\n')\n",
        "\n",
        "# resolve posicao\n",
        "mp = posicaofalsa(f, 0.8, 0.9, tol, nmax, var,plotar)"
      ],
      "execution_count": null,
      "outputs": [
        {
          "output_type": "stream",
          "text": [
            "f(x) = cos(x)-(x/453+x**2)\n",
            "\n",
            "(i = 1) f(xm)=0.002317 | f(a)=0.054941 | f(b)=-0.190377\n",
            "(i = 2) f(xm)=0.000095 | f(a)=0.002317 | f(b)=-0.190377\n",
            "(i = 3) f(xm)=0.000004 | f(a)=0.000095 | f(b)=-0.190377\n",
            "(i = 4) f(xm)=0.000000 | f(a)=0.000004 | f(b)=-0.190377\n",
            "(i = 5) f(xm)=0.000000 | f(a)=0.000000 | f(b)=-0.190377\n",
            "(i = 6) f(xm)=0.000000 | f(a)=0.000000 | f(b)=-0.190377\n",
            "(i = 7) f(xm)=0.000000 | f(a)=0.000000 | f(b)=-0.190377\n",
            "(i = 8) f(xm)=0.000000 | f(a)=0.000000 | f(b)=-0.190377\n",
            "(i = 9) f(xm)=0.000000 | f(a)=0.000000 | f(b)=-0.190377\n",
            "(i = 10) f(xm)=0.000000 | f(a)=0.000000 | f(b)=-0.190377\n",
            "(i = 11) f(xm)=0.000000 | f(a)=0.000000 | f(b)=-0.190377\n",
            "(i = 12) f(xm)=-0.000000 | f(a)=0.000000 | f(b)=-0.190377\n",
            "Solução encontrada: 0.8233690034494208\n"
          ],
          "name": "stdout"
        },
        {
          "output_type": "display_data",
          "data": {
            "image/png": "[encoded data removed]",
            "text/plain": [
              "<Figure size 432x288 with 1 Axes>"
            ]
          },
          "metadata": {
            "tags": [],
            "needs_background": "light"
          }
        }
      ]
    },
    {
      "cell_type": "markdown",
      "metadata": {
        "id": "z13vSbSboter"
      },
      "source": [
        "##C) Método de Newton - Raphson\n",
        "O método tem o objetivo de estimar as raízes de uma função. O primeiro passo é escolher uma aproximação inicial. Após isso, calcula-se a equação da reta tangente (por meio da derivada) da função nesse ponto e a interseção dela com o eixo das abcissas, a fim de encontrar uma melhor aproximação para a raiz. Repetindo-se o processo, cria-se um método iterativo para encontrarmos a raiz da função."
      ]
    },
    {
      "cell_type": "code",
      "metadata": {
        "id": "p63sUtlwo0y9"
      },
      "source": [
        "# Método de Newton\n",
        "\n",
        "def newton(x0,f,df,tol,nmax,var,plotar):\n",
        "\n",
        "    f = eval('lambda x:' + f)\n",
        "    df = eval('lambda x:' + df)\n",
        "\n",
        "    it = 0 # contador de iteracoes\n",
        "\n",
        "    # imprime estimativa inicial\n",
        "    print('Estimativa inicial: x0 = {0}\\n'.format(x0))  \n",
        "\n",
        "    # Loop \n",
        "    for i in range(0,nmax):\n",
        "        \n",
        "        x = x0 - f(x0)/df(x0) # funcao de iteracao \n",
        "        \n",
        "        e = abs(x-x0)/abs(x) # erro\n",
        "        \n",
        "        # tabela\n",
        "        print('{0:d}  {1:f}  {2:f}  {3:f}  {4:e}'.format(i,x,f(x),df(x),e))\n",
        "        \n",
        "        if e < tol:\n",
        "            break\n",
        "        x0 = x                \n",
        "        \n",
        "    if i == nmax:\n",
        "        print('Solução não obtida em {0:d} iterações'.format(nmax))\n",
        "    else:\n",
        "        print('Solução obtida: x = {0:.10f}'.format(x))\n",
        "\n",
        "    # plotagem\n",
        "    if plotar:        \n",
        "        delta = 1*x\n",
        "        dom = linspace(x-delta,x+delta,30)\n",
        "        plot(dom,f(dom),x,f(x),'ro')\n",
        "\n",
        "    return x"
      ],
      "execution_count": null,
      "outputs": []
    },
    {
      "cell_type": "code",
      "metadata": {
        "colab": {
          "base_uri": "https://localhost:8080/",
          "height": 384
        },
        "id": "3EuJJRzhpJto",
        "outputId": "6bfbe0e0-251a-4d1e-adfa-7832cbe55350"
      },
      "source": [
        "x0 = 0.75 # estimativa inicial\n",
        "\n",
        "# chamada da função\n",
        "mn = newton(x0,f,df,tol,nmax,var,plotar)"
      ],
      "execution_count": null,
      "outputs": [
        {
          "output_type": "stream",
          "text": [
            "Estimativa inicial: x0 = 0.75\n",
            "\n",
            "0  0.826715  -0.007986  -2.391347  9.279471e-02\n",
            "1  0.823375  -0.000015  -2.382402  4.055851e-03\n",
            "2  0.823369  -0.000000  -2.382386  7.612882e-06\n",
            "3  0.823369  -0.000000  -2.382386  2.683769e-11\n",
            "Solução obtida: x = 0.8233690034\n"
          ],
          "name": "stdout"
        },
        {
          "output_type": "display_data",
          "data": {
            "image/png": "[encoded data removed]",
            "text/plain": [
              "<Figure size 432x288 with 1 Axes>"
            ]
          },
          "metadata": {
            "tags": [],
            "needs_background": "light"
          }
        }
      ]
    },
    {
      "cell_type": "markdown",
      "metadata": {
        "id": "KaRnhrc0vAOg"
      },
      "source": [
        "##D) Método da secante\n",
        "O método das secantes é um algoritmo de busca de raízes que usa uma sequência de raízes de linhas secantes para aproximar cada vez melhor a raiz de uma função f."
      ]
    },
    {
      "cell_type": "code",
      "metadata": {
        "id": "k0MiLeC_vJkT"
      },
      "source": [
        "# Método da Secante\n",
        "\n",
        "def secante(xa,xb,f,tol,nmax,var,plotar):\n",
        "\n",
        "    f = eval('lambda x:' + f)\n",
        "\n",
        "    # imprime estimativas iniciais\n",
        "    print('Estimativas iniciais: xa = {0}; xb = {1} \\n'.format(xa,xb))  \n",
        "\n",
        "    # Loop \n",
        "    for i in range(0,nmax):\n",
        "        \n",
        "        x = (xa*f(xb) - xb*f(xa))/(f(xb) - f(xa))\n",
        "                        \n",
        "        e = abs(x-xb)/abs(x) # erro\n",
        "        \n",
        "        # tabela\n",
        "        print('{0:d}  {1:f}  {2:f}  {3:e}'.format(i,x,f(x),e))\n",
        "        \n",
        "        if e < tol:\n",
        "            break\n",
        "        xa = xb\n",
        "        xb = x\n",
        "        \n",
        "    if i == nmax:\n",
        "        print('Solução não obtida em {0:d} iterações'.format(nmax))\n",
        "    else:\n",
        "        print('Solução obtida: x = {0:.10f}'.format(x))\n",
        "\n",
        "    # plotagem\n",
        "    if plotar:        \n",
        "        delta = 1*x\n",
        "        dom = linspace(x-delta,x+delta,30)\n",
        "        plot(dom,f(dom),x,f(x),'ro')\n",
        "\n",
        "    return x"
      ],
      "execution_count": null,
      "outputs": []
    },
    {
      "cell_type": "code",
      "metadata": {
        "colab": {
          "base_uri": "https://localhost:8080/",
          "height": 384
        },
        "id": "_iTfcIY7vghH",
        "outputId": "aa1ec961-332c-4470-a85c-f19784e50c81"
      },
      "source": [
        "# chamada da função\n",
        "ms = secante(0.8,0.9,f,tol,nmax,var,plotar)"
      ],
      "execution_count": null,
      "outputs": [
        {
          "output_type": "stream",
          "text": [
            "Estimativas iniciais: xa = 0.8; xb = 0.9 \n",
            "\n",
            "0  0.822396  0.002317  9.436363e-02\n",
            "1  0.823329  0.000095  1.133552e-03\n",
            "2  0.823369  -0.000000  4.856154e-05\n",
            "3  0.823369  0.000000  2.658451e-08\n",
            "Solução obtida: x = 0.8233690034\n"
          ],
          "name": "stdout"
        },
        {
          "output_type": "display_data",
          "data": {
            "image/png": "[encoded data removed]",
            "text/plain": [
              "<Figure size 432x288 with 1 Axes>"
            ]
          },
          "metadata": {
            "tags": [],
            "needs_background": "light"
          }
        }
      ]
    },
    {
      "cell_type": "markdown",
      "metadata": {
        "id": "ORkOr-V8KP8-"
      },
      "source": [
        "##E) Comparação entre os métodos\n",
        "Percebe-se que o método de Newton - Raphson e o da secante obtveram melhores resuldados em menor número de iterações. Entretanto o de Newton - Raphson se destaca por apresentar um valor de raiz na ordem de grandeza de 10^-11."
      ]
    }
  ]
}