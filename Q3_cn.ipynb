{
  "nbformat": 4,
  "nbformat_minor": 0,
  "metadata": {
    "colab": {
      "name": "Q3-cn.ipynb",
      "provenance": []
    },
    "kernelspec": {
      "name": "python3",
      "display_name": "Python 3"
    },
    "language_info": {
      "name": "python"
    }
  },
  "cells": [
    {
      "cell_type": "code",
      "metadata": {
        "id": "Hi-iDUu6tCOf"
      },
      "source": [
        "from numpy import linspace\n",
        "from numpy import sqrt, exp, cos, sin\n",
        "from matplotlib.pyplot import plot,legend\n",
        "\n",
        "import inspect, re"
      ],
      "execution_count": null,
      "outputs": []
    },
    {
      "cell_type": "code",
      "metadata": {
        "id": "oowm0OYttOF2"
      },
      "source": [
        "#Parametros\n",
        "f = '500+0.453*x+4.1*10**-5*x**2+2.1*10**-7*x**3+4.453*10**-10*x**4+1000+0.22*x+6.453*10**-5*x**2+8.453*10**-7*x**3-1500'  # funcao\n",
        "tol = 10**-6               # tolerancia\n",
        "nmax = 25                  # numero maximo de iteracoes\n",
        "var = 'x'\n",
        "plotar = True"
      ],
      "execution_count": null,
      "outputs": []
    },
    {
      "cell_type": "code",
      "metadata": {
        "id": "WQpEFROBLmde"
      },
      "source": [
        "# Método da Secante\n",
        "\n",
        "def secante(xa,xb,f,tol,nmax,var,plotar):\n",
        "\n",
        "    f = eval('lambda x:' + f)\n",
        "\n",
        "    # imprime estimativas iniciais\n",
        "    print('Estimativas iniciais: xa = {0}; xb = {1} \\n'.format(xa,xb))  \n",
        "\n",
        "    # Loop \n",
        "    for i in range(0,nmax):\n",
        "        \n",
        "        x = (xa*f(xb) - xb*f(xa))/(f(xb) - f(xa))\n",
        "                        \n",
        "        e = abs(x-xb)/abs(x) # erro\n",
        "        \n",
        "        # tabela\n",
        "        print('{0:d}  {1:f}  {2:f}  {3:e}'.format(i,x,f(x),e))\n",
        "        \n",
        "        if e < tol:\n",
        "            break\n",
        "        xa = xb\n",
        "        xb = x\n",
        "        \n",
        "    if i == nmax:\n",
        "        print('Solução não obtida em {0:d} iterações'.format(nmax))\n",
        "    else:\n",
        "        print('Solução obtida: x = {0:.10f}'.format(x))\n",
        "\n",
        "    # plotagem\n",
        "    if plotar:        \n",
        "        delta = 1*x\n",
        "        dom = linspace(x-delta,x+delta,30)\n",
        "        plot(dom,f(dom),x,f(x),'ro')\n",
        "\n",
        "    return x"
      ],
      "execution_count": null,
      "outputs": []
    },
    {
      "cell_type": "code",
      "metadata": {
        "colab": {
          "base_uri": "https://localhost:8080/",
          "height": 401
        },
        "id": "5K-Wem8KswJo",
        "outputId": "0ee5ae33-59fa-4207-c8d9-7654df005931"
      },
      "source": [
        "# chamada da função\n",
        "ms = secante(-2400.0,-2600.0,f,tol,nmax,var,plotar)"
      ],
      "execution_count": null,
      "outputs": [
        {
          "output_type": "stream",
          "text": [
            "Estimativas iniciais: xa = -2400.0; xb = -2600.0 \n",
            "\n",
            "0  -2503.596233  -88.946894  3.850612e-02\n",
            "1  -2513.640315  -8.060953  3.995831e-03\n",
            "2  -2514.641291  0.099482  3.980591e-04\n",
            "3  -2514.629088  -0.000109  4.852680e-06\n",
            "4  -2514.629101  -0.000000  5.312307e-09\n",
            "Solução obtida: x = -2514.6291014905\n"
          ],
          "name": "stdout"
        },
        {
          "output_type": "display_data",
          "data": {
            "image/png": "[encoded data removed]",
            "text/plain": [
              "<Figure size 432x288 with 1 Axes>"
            ]
          },
          "metadata": {
            "tags": [],
            "needs_background": "light"
          }
        }
      ]
    }
  ]
}