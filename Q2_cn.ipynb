{
  "nbformat": 4,
  "nbformat_minor": 0,
  "metadata": {
    "colab": {
      "name": "Q2-cn.ipynb",
      "provenance": []
    },
    "kernelspec": {
      "name": "python3",
      "display_name": "Python 3"
    },
    "language_info": {
      "name": "python"
    }
  },
  "cells": [
    {
      "cell_type": "code",
      "metadata": {
        "id": "cM_PLNv0y2yI"
      },
      "source": [
        "%matplotlib inline"
      ],
      "execution_count": null,
      "outputs": []
    },
    {
      "cell_type": "code",
      "metadata": {
        "id": "Dj-58Rb0y8hZ"
      },
      "source": [
        "from numpy import linspace\n",
        "from numpy import sqrt, exp, cos, sin\n",
        "from matplotlib.pyplot import plot,legend\n",
        "\n",
        "import inspect, re"
      ],
      "execution_count": null,
      "outputs": []
    },
    {
      "cell_type": "code",
      "metadata": {
        "id": "oaKMnjnj40yA"
      },
      "source": [
        "# Método de Newton\n",
        "\n",
        "def newton(x0,f,df,tol,nmax,var,plotar):\n",
        "\n",
        "    f = eval('lambda x:' + f)\n",
        "    df = eval('lambda x:' + df)\n",
        "\n",
        "    it = 0 # contador de iteracoes\n",
        "\n",
        "    # imprime estimativa inicial\n",
        "    print('Estimativa inicial: x0 = {0}\\n'.format(x0))  \n",
        "\n",
        "    # Loop \n",
        "    for i in range(0,nmax):\n",
        "        \n",
        "        x = x0 - f(x0)/df(x0) # funcao de iteracao \n",
        "        \n",
        "        e = abs(x-x0)/abs(x) # erro\n",
        "        \n",
        "        # tabela\n",
        "        print('{0:d}  {1:f}  {2:f}  {3:f}  {4:e}'.format(i,x,f(x),df(x),e))\n",
        "        \n",
        "        if e < tol:\n",
        "            break\n",
        "        x0 = x                \n",
        "        \n",
        "    if i == nmax:\n",
        "        print('Solução não obtida em {0:d} iterações'.format(nmax))\n",
        "    else:\n",
        "        print('Solução obtida: x = {0:.10f}'.format(x))\n",
        "\n",
        "    # plotagem\n",
        "    if plotar:        \n",
        "        delta = 1*x\n",
        "        dom = linspace(x-delta,x+delta,30)\n",
        "        plot(dom,f(dom),x,f(x),'ro')\n",
        "\n",
        "    return x"
      ],
      "execution_count": null,
      "outputs": []
    },
    {
      "cell_type": "code",
      "metadata": {
        "colab": {
          "base_uri": "https://localhost:8080/",
          "height": 418
        },
        "id": "oe7Ul4ku457v",
        "outputId": "c8d3b27b-7cd7-4f50-a4d7-3863cda9f7f8"
      },
      "source": [
        "x0 = 10.0 # estimativa inicial\n",
        "\n",
        "# chamada da função\n",
        "mn = newton(x0,f,df,tol,nmax,var,plotar)"
      ],
      "execution_count": null,
      "outputs": [
        {
          "output_type": "stream",
          "text": [
            "Estimativa inicial: x0 = 10.0\n",
            "\n",
            "0  13.333333  7901.234568  6281.481481  2.500000e-01\n",
            "1  12.075472  1394.389011  4119.491930  1.041667e-01\n",
            "2  11.736986  89.877620  3592.058123  2.883923e-02\n",
            "3  11.711965  0.477304  3553.925536  2.136380e-03\n",
            "4  11.711831  0.000014  3553.721169  1.146731e-05\n",
            "5  11.711831  0.000000  3553.721163  3.297305e-10\n",
            "Solução obtida: x = 11.7118305106\n"
          ],
          "name": "stdout"
        },
        {
          "output_type": "display_data",
          "data": {
            "image/png": "[encoded data removed]",
            "text/plain": [
              "<Figure size 432x288 with 1 Axes>"
            ]
          },
          "metadata": {
            "tags": [],
            "needs_background": "light"
          }
        }
      ]
    },
    {
      "cell_type": "code",
      "metadata": {
        "id": "TZdRUWuc5ANL"
      },
      "source": [
        "# Método da Secante\n",
        "\n",
        "def secante(xa,xb,f,tol,nmax,var,plotar):\n",
        "\n",
        "    f = eval('lambda x:' + f)\n",
        "\n",
        "    # imprime estimativas iniciais\n",
        "    print('Estimativas iniciais: xa = {0}; xb = {1} \\n'.format(xa,xb))  \n",
        "\n",
        "    # Loop \n",
        "    for i in range(0,nmax):\n",
        "        \n",
        "        x = (xa*f(xb) - xb*f(xa))/(f(xb) - f(xa))\n",
        "                        \n",
        "        e = abs(x-xb)/abs(x) # erro\n",
        "        \n",
        "        # tabela\n",
        "        print('{0:d}  {1:f}  {2:f}  {3:e}'.format(i,x,f(x),e))\n",
        "        \n",
        "        if e < tol:\n",
        "            break\n",
        "        xa = xb\n",
        "        xb = x\n",
        "        \n",
        "    if i == nmax:\n",
        "        print('Solução não obtida em {0:d} iterações'.format(nmax))\n",
        "    else:\n",
        "        print('Solução obtida: x = {0:.10f}'.format(x))\n",
        "\n",
        "    # plotagem\n",
        "    if plotar:        \n",
        "        delta = 1*x\n",
        "        dom = linspace(x-delta,x+delta,30)\n",
        "        plot(dom,f(dom),x,f(x),'ro')\n",
        "\n",
        "    return x"
      ],
      "execution_count": null,
      "outputs": []
    },
    {
      "cell_type": "code",
      "metadata": {
        "colab": {
          "base_uri": "https://localhost:8080/",
          "height": 418
        },
        "id": "AF1HDGoM5Ebx",
        "outputId": "91c1fe12-b901-4bd9-b839-dbefc2bb5351"
      },
      "source": [
        "# chamada da função\n",
        "ms = secante(10.0,14.0,f,tol,nmax,var,plotar)"
      ],
      "execution_count": null,
      "outputs": [
        {
          "output_type": "stream",
          "text": [
            "Estimativas iniciais: xa = 10.0; xb = 14.0 \n",
            "\n",
            "0  10.968992  -2232.345224  2.763251e-01\n",
            "1  11.427897  -948.381847  4.015657e-02\n",
            "2  11.766861  197.873431  2.880666e-02\n",
            "3  11.708347  -12.368964  4.997629e-03\n",
            "4  11.711790  -0.144543  2.939337e-04\n",
            "5  11.711831  0.000108  3.475495e-06\n",
            "Solução obtida: x = 11.7118305410\n"
          ],
          "name": "stdout"
        },
        {
          "output_type": "display_data",
          "data": {
            "image/png": "[encoded data removed]",
            "text/plain": [
              "<Figure size 432x288 with 1 Axes>"
            ]
          },
          "metadata": {
            "tags": [],
            "needs_background": "light"
          }
        }
      ]
    }
  ]
}